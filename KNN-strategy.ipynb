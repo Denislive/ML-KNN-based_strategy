{
 "cells": [
  {
   "cell_type": "markdown",
   "id": "12a42e04",
   "metadata": {},
   "source": [
    "!pip install pandas\n",
    "!pip install numpy\n",
    "!pip install scikit-learn\n",
    "!pip install yfinance"
   ]
  },
  {
   "cell_type": "code",
   "execution_count": 70,
   "id": "4118c4d9",
   "metadata": {},
   "outputs": [],
   "source": [
    "import pandas as pd\n",
    "import numpy as np\n",
    "import yfinance as yf\n",
    "import random\n",
    "\n",
    "from sklearn.model_selection import train_test_split\n",
    "from sklearn.preprocessing import StandardScaler\n",
    "from sklearn.neighbors import KNeighborsClassifier\n",
    "from sklearn.metrics import confusion_matrix\n",
    "from sklearn.metrics import f1_score\n",
    "from sklearn.metrics import accuracy_score\n",
    "from sklearn.linear_model import LinearRegression"
   ]
  },
  {
   "cell_type": "code",
   "execution_count": 77,
   "id": "5851d87a",
   "metadata": {},
   "outputs": [
    {
     "name": "stdout",
     "output_type": "stream",
     "text": [
      "[*********************100%***********************]  1 of 1 completed\n"
     ]
    }
   ],
   "source": [
    "stock ='EURUSD=X'\n",
    "forex_data = yf.download(stock, start='2016-01-02', end='2022-07-03')"
   ]
  },
  {
   "cell_type": "code",
   "execution_count": 7,
   "id": "76d9532c",
   "metadata": {
    "scrolled": false
   },
   "outputs": [
    {
     "data": {
      "text/html": [
       "<div>\n",
       "<style scoped>\n",
       "    .dataframe tbody tr th:only-of-type {\n",
       "        vertical-align: middle;\n",
       "    }\n",
       "\n",
       "    .dataframe tbody tr th {\n",
       "        vertical-align: top;\n",
       "    }\n",
       "\n",
       "    .dataframe thead th {\n",
       "        text-align: right;\n",
       "    }\n",
       "</style>\n",
       "<table border=\"1\" class=\"dataframe\">\n",
       "  <thead>\n",
       "    <tr style=\"text-align: right;\">\n",
       "      <th></th>\n",
       "      <th>Open</th>\n",
       "      <th>High</th>\n",
       "      <th>Low</th>\n",
       "      <th>Close</th>\n",
       "      <th>Adj Close</th>\n",
       "      <th>Volume</th>\n",
       "    </tr>\n",
       "    <tr>\n",
       "      <th>Date</th>\n",
       "      <th></th>\n",
       "      <th></th>\n",
       "      <th></th>\n",
       "      <th></th>\n",
       "      <th></th>\n",
       "      <th></th>\n",
       "    </tr>\n",
       "  </thead>\n",
       "  <tbody>\n",
       "    <tr>\n",
       "      <th>2016-01-04</th>\n",
       "      <td>1.085505</td>\n",
       "      <td>1.094600</td>\n",
       "      <td>1.080600</td>\n",
       "      <td>1.085399</td>\n",
       "      <td>1.085399</td>\n",
       "      <td>0</td>\n",
       "    </tr>\n",
       "    <tr>\n",
       "      <th>2016-01-05</th>\n",
       "      <td>1.082603</td>\n",
       "      <td>1.084105</td>\n",
       "      <td>1.071201</td>\n",
       "      <td>1.082755</td>\n",
       "      <td>1.082755</td>\n",
       "      <td>0</td>\n",
       "    </tr>\n",
       "    <tr>\n",
       "      <th>2016-01-06</th>\n",
       "      <td>1.075199</td>\n",
       "      <td>1.077203</td>\n",
       "      <td>1.072200</td>\n",
       "      <td>1.075199</td>\n",
       "      <td>1.075199</td>\n",
       "      <td>0</td>\n",
       "    </tr>\n",
       "    <tr>\n",
       "      <th>2016-01-07</th>\n",
       "      <td>1.077795</td>\n",
       "      <td>1.087600</td>\n",
       "      <td>1.077400</td>\n",
       "      <td>1.077900</td>\n",
       "      <td>1.077900</td>\n",
       "      <td>0</td>\n",
       "    </tr>\n",
       "    <tr>\n",
       "      <th>2016-01-08</th>\n",
       "      <td>1.092705</td>\n",
       "      <td>1.092896</td>\n",
       "      <td>1.080801</td>\n",
       "      <td>1.092598</td>\n",
       "      <td>1.092598</td>\n",
       "      <td>0</td>\n",
       "    </tr>\n",
       "    <tr>\n",
       "      <th>...</th>\n",
       "      <td>...</td>\n",
       "      <td>...</td>\n",
       "      <td>...</td>\n",
       "      <td>...</td>\n",
       "      <td>...</td>\n",
       "      <td>...</td>\n",
       "    </tr>\n",
       "    <tr>\n",
       "      <th>2022-06-27</th>\n",
       "      <td>1.056613</td>\n",
       "      <td>1.061425</td>\n",
       "      <td>1.055086</td>\n",
       "      <td>1.056613</td>\n",
       "      <td>1.056613</td>\n",
       "      <td>0</td>\n",
       "    </tr>\n",
       "    <tr>\n",
       "      <th>2022-06-28</th>\n",
       "      <td>1.058089</td>\n",
       "      <td>1.060502</td>\n",
       "      <td>1.050575</td>\n",
       "      <td>1.058089</td>\n",
       "      <td>1.058089</td>\n",
       "      <td>0</td>\n",
       "    </tr>\n",
       "    <tr>\n",
       "      <th>2022-06-29</th>\n",
       "      <td>1.052355</td>\n",
       "      <td>1.053630</td>\n",
       "      <td>1.046803</td>\n",
       "      <td>1.052355</td>\n",
       "      <td>1.052355</td>\n",
       "      <td>0</td>\n",
       "    </tr>\n",
       "    <tr>\n",
       "      <th>2022-06-30</th>\n",
       "      <td>1.044659</td>\n",
       "      <td>1.047878</td>\n",
       "      <td>1.038389</td>\n",
       "      <td>1.044659</td>\n",
       "      <td>1.044659</td>\n",
       "      <td>0</td>\n",
       "    </tr>\n",
       "    <tr>\n",
       "      <th>2022-07-01</th>\n",
       "      <td>1.047768</td>\n",
       "      <td>1.047790</td>\n",
       "      <td>1.036989</td>\n",
       "      <td>1.047768</td>\n",
       "      <td>1.047768</td>\n",
       "      <td>0</td>\n",
       "    </tr>\n",
       "  </tbody>\n",
       "</table>\n",
       "<p>1692 rows × 6 columns</p>\n",
       "</div>"
      ],
      "text/plain": [
       "                Open      High       Low     Close  Adj Close  Volume\n",
       "Date                                                                 \n",
       "2016-01-04  1.085505  1.094600  1.080600  1.085399   1.085399       0\n",
       "2016-01-05  1.082603  1.084105  1.071201  1.082755   1.082755       0\n",
       "2016-01-06  1.075199  1.077203  1.072200  1.075199   1.075199       0\n",
       "2016-01-07  1.077795  1.087600  1.077400  1.077900   1.077900       0\n",
       "2016-01-08  1.092705  1.092896  1.080801  1.092598   1.092598       0\n",
       "...              ...       ...       ...       ...        ...     ...\n",
       "2022-06-27  1.056613  1.061425  1.055086  1.056613   1.056613       0\n",
       "2022-06-28  1.058089  1.060502  1.050575  1.058089   1.058089       0\n",
       "2022-06-29  1.052355  1.053630  1.046803  1.052355   1.052355       0\n",
       "2022-06-30  1.044659  1.047878  1.038389  1.044659   1.044659       0\n",
       "2022-07-01  1.047768  1.047790  1.036989  1.047768   1.047768       0\n",
       "\n",
       "[1692 rows x 6 columns]"
      ]
     },
     "execution_count": 7,
     "metadata": {},
     "output_type": "execute_result"
    }
   ],
   "source": [
    "forex_data"
   ]
  },
  {
   "cell_type": "code",
   "execution_count": 45,
   "id": "a456938c",
   "metadata": {
    "scrolled": true
   },
   "outputs": [],
   "source": [
    "fx_data = ['Open', 'High', 'Low', 'Close']"
   ]
  },
  {
   "cell_type": "code",
   "execution_count": 46,
   "id": "3fb72c73",
   "metadata": {},
   "outputs": [],
   "source": [
    "for col in fx_data:\n",
    "    forex_data[col] = forex_data[col].replace(0, np.NaN)\n",
    "    mean = int(forex_data[col].mean(skipna=True))\n",
    "    forex_data[col] = forex_data[col].replace(np.NaN, mean)"
   ]
  },
  {
   "cell_type": "code",
   "execution_count": 34,
   "id": "8d100b17",
   "metadata": {},
   "outputs": [],
   "source": [
    "#Calculate EMA\n",
    "def calculate_ema(data, period):\n",
    "    close_prices = data['Close']\n",
    "    ema_values = close_prices.ewm(span=period, adjust=False).mean()\n",
    "    return ema_values"
   ]
  },
  {
   "cell_type": "code",
   "execution_count": 36,
   "id": "1889070c",
   "metadata": {},
   "outputs": [],
   "source": [
    "# Specify the window or period for calculating EMA\n",
    "ema_period= 12\n",
    "# Calculate EMA using the function and add it as a new column 'EMA'\n",
    "forex_data['EMA'] = calculate_ema(forex_data, ema_period)"
   ]
  },
  {
   "cell_type": "code",
   "execution_count": 38,
   "id": "27866fcf",
   "metadata": {},
   "outputs": [],
   "source": [
    "#Calculate RSI\n",
    "\n",
    "\n",
    "def calculate_rsi(data, period=14):\n",
    "    close_prices = data['Close']\n",
    "    price_diff = close_prices.diff()\n",
    "    positive_diff = price_diff.where(price_diff > 0, 0)\n",
    "    negative_diff = -price_diff.where(price_diff < 0, 0)\n",
    "    \n",
    "    avg_gain = positive_diff.rolling(period).mean()\n",
    "    avg_loss = negative_diff.rolling(period).mean()\n",
    "    \n",
    "    relative_strength = avg_gain / avg_loss\n",
    "    rsi = 100 - (100 / (1 + relative_strength))\n",
    "    \n",
    "    return rsi"
   ]
  },
  {
   "cell_type": "code",
   "execution_count": 47,
   "id": "4b3335e9",
   "metadata": {
    "scrolled": true
   },
   "outputs": [
    {
     "name": "stdout",
     "output_type": "stream",
     "text": [
      "                Open      High       Low     Close  Adj Close  Volume  \\\n",
      "Date                                                                    \n",
      "2016-01-04  1.085505  1.094600  1.080600  1.085399   1.085399       0   \n",
      "2016-01-05  1.082603  1.084105  1.071201  1.082755   1.082755       0   \n",
      "2016-01-06  1.075199  1.077203  1.072200  1.075199   1.075199       0   \n",
      "2016-01-07  1.077795  1.087600  1.077400  1.077900   1.077900       0   \n",
      "2016-01-08  1.092705  1.092896  1.080801  1.092598   1.092598       0   \n",
      "...              ...       ...       ...       ...        ...     ...   \n",
      "2022-06-27  1.056613  1.061425  1.055086  1.056613   1.056613       0   \n",
      "2022-06-28  1.058089  1.060502  1.050575  1.058089   1.058089       0   \n",
      "2022-06-29  1.052355  1.053630  1.046803  1.052355   1.052355       0   \n",
      "2022-06-30  1.044659  1.047878  1.038389  1.044659   1.044659       0   \n",
      "2022-07-01  1.047768  1.047790  1.036989  1.047768   1.047768       0   \n",
      "\n",
      "                 EMA        RSI  \n",
      "Date                             \n",
      "2016-01-04  1.085399        NaN  \n",
      "2016-01-05  1.084992        NaN  \n",
      "2016-01-06  1.083486        NaN  \n",
      "2016-01-07  1.082626        NaN  \n",
      "2016-01-08  1.084160        NaN  \n",
      "...              ...        ...  \n",
      "2022-06-27  1.054791  40.769543  \n",
      "2022-06-28  1.055298  41.421419  \n",
      "2022-06-29  1.054846  36.603779  \n",
      "2022-06-30  1.053278  37.722968  \n",
      "2022-07-01  1.052431  48.982452  \n",
      "\n",
      "[1692 rows x 8 columns]\n"
     ]
    }
   ],
   "source": [
    "# Calculate RSI using the function and add it as a new column 'RSI'\n",
    "forex_data['RSI'] = calculate_rsi(forex_data)\n",
    "\n",
    "# Print the updated DataFrame with the RSI column\n",
    "print(forex_data)\n"
   ]
  },
  {
   "cell_type": "code",
   "execution_count": 50,
   "id": "221cf84a",
   "metadata": {},
   "outputs": [],
   "source": [
    "# Calculate macd momentum indicator\n",
    "\n",
    "def calculate_macd(data, short_period=12, long_period=26, signal_period=9):\n",
    "    close_prices = data['Close']\n",
    "    ema_short = close_prices.ewm(span=short_period, adjust=False).mean()\n",
    "    ema_long = close_prices.ewm(span=long_period, adjust=False).mean()\n",
    "    \n",
    "    macd_line = ema_short - ema_long\n",
    "    signal_line = macd_line.ewm(span=signal_period, adjust=False).mean()\n",
    "    macd_histogram = macd_line - signal_line\n",
    "    \n",
    "    return macd_line, signal_line, macd_histogram"
   ]
  },
  {
   "cell_type": "code",
   "execution_count": 51,
   "id": "2a7cf9e1",
   "metadata": {
    "scrolled": true
   },
   "outputs": [
    {
     "name": "stdout",
     "output_type": "stream",
     "text": [
      "                Open      High       Low     Close  Adj Close  Volume  \\\n",
      "Date                                                                    \n",
      "2016-01-04  1.085505  1.094600  1.080600  1.085399   1.085399       0   \n",
      "2016-01-05  1.082603  1.084105  1.071201  1.082755   1.082755       0   \n",
      "2016-01-06  1.075199  1.077203  1.072200  1.075199   1.075199       0   \n",
      "2016-01-07  1.077795  1.087600  1.077400  1.077900   1.077900       0   \n",
      "2016-01-08  1.092705  1.092896  1.080801  1.092598   1.092598       0   \n",
      "...              ...       ...       ...       ...        ...     ...   \n",
      "2022-06-27  1.056613  1.061425  1.055086  1.056613   1.056613       0   \n",
      "2022-06-28  1.058089  1.060502  1.050575  1.058089   1.058089       0   \n",
      "2022-06-29  1.052355  1.053630  1.046803  1.052355   1.052355       0   \n",
      "2022-06-30  1.044659  1.047878  1.038389  1.044659   1.044659       0   \n",
      "2022-07-01  1.047768  1.047790  1.036989  1.047768   1.047768       0   \n",
      "\n",
      "                 EMA        RSI  MACD Line  Signal Line  MACD Histogram  \n",
      "Date                                                                     \n",
      "2016-01-04  1.085399        NaN   0.000000     0.000000    0.000000e+00  \n",
      "2016-01-05  1.084992        NaN  -0.000211    -0.000042   -1.687455e-04  \n",
      "2016-01-06  1.083486        NaN  -0.000977    -0.000229   -7.474623e-04  \n",
      "2016-01-07  1.082626        NaN  -0.001350    -0.000453   -8.965831e-04  \n",
      "2016-01-08  1.084160        NaN  -0.000454    -0.000453   -9.384477e-07  \n",
      "...              ...        ...        ...          ...             ...  \n",
      "2022-06-27  1.054791  40.769543  -0.003310    -0.003412    1.017868e-04  \n",
      "2022-06-28  1.055298  41.421419  -0.002802    -0.003290    4.880701e-04  \n",
      "2022-06-29  1.054846  36.603779  -0.002829    -0.003198    3.686278e-04  \n",
      "2022-06-30  1.053278  37.722968  -0.003432    -0.003245   -1.875107e-04  \n",
      "2022-07-01  1.052431  48.982452  -0.003618    -0.003319   -2.982911e-04  \n",
      "\n",
      "[1692 rows x 11 columns]\n"
     ]
    }
   ],
   "source": [
    "# Calculate MACD using the function and add it as new columns 'MACD Line', 'Signal Line', 'MACD Histogram'\n",
    "forex_data['MACD Line'], forex_data['Signal Line'], forex_data['MACD Histogram'] = calculate_macd(forex_data)\n",
    "# Print the updated DataFrame with the MACD columns\n",
    "print(forex_data)"
   ]
  },
  {
   "cell_type": "code",
   "execution_count": 52,
   "id": "cc36108e",
   "metadata": {},
   "outputs": [],
   "source": [
    "#Calculate ATR\n",
    "\n",
    "def calculate_atr(data, period=14):\n",
    "    high_prices = data['High']\n",
    "    low_prices = data['Low']\n",
    "    close_prices = data['Close']\n",
    "    \n",
    "    high_minus_low = high_prices - low_prices\n",
    "    high_minus_close = np.abs(high_prices - close_prices.shift())\n",
    "    low_minus_close = np.abs(low_prices - close_prices.shift())\n",
    "    \n",
    "    true_range = pd.concat([high_minus_low, high_minus_close, low_minus_close], axis=1).max(axis=1)\n",
    "    atr = true_range.rolling(period).mean()\n",
    "    \n",
    "    return atr"
   ]
  },
  {
   "cell_type": "code",
   "execution_count": 75,
   "id": "1b7cb453",
   "metadata": {
    "scrolled": true
   },
   "outputs": [
    {
     "name": "stdout",
     "output_type": "stream",
     "text": [
      "          Open      High       Low     Close  Adj Close  Volume       EMA  \\\n",
      "0     1.087701  1.092200  1.078200  1.087701   1.087701       0  1.087880   \n",
      "1     1.086095  1.086400  1.079599  1.086201   1.086201       0  1.087622   \n",
      "2     1.079902  1.085000  1.079203  1.079902   1.079902       0  1.086434   \n",
      "3     1.085376  1.088000  1.082000  1.085305   1.085305       0  1.086261   \n",
      "4     1.086401  1.091200  1.085305  1.086496   1.086496       0  1.086297   \n",
      "...        ...       ...       ...       ...        ...     ...       ...   \n",
      "1674  1.056613  1.061425  1.055086  1.056613   1.056613       0  1.054791   \n",
      "1675  1.058089  1.060502  1.050575  1.058089   1.058089       0  1.055298   \n",
      "1676  1.052355  1.053630  1.046803  1.052355   1.052355       0  1.054846   \n",
      "1677  1.044659  1.047878  1.038389  1.044659   1.044659       0  1.053278   \n",
      "1678  1.047768  1.047790  1.036989  1.047768   1.047768       0  1.052431   \n",
      "\n",
      "            RSI  MACD Line  Signal Line  MACD Histogram       ATR  Trend  \n",
      "0     51.927592   0.001142     0.000688        0.000454       NaN     -1  \n",
      "1     50.654889   0.000924     0.000735        0.000189       NaN     -1  \n",
      "2     47.801007   0.000239     0.000636       -0.000396       NaN     -1  \n",
      "3     58.056276   0.000132     0.000535       -0.000403       NaN      1  \n",
      "4     57.021858   0.000141     0.000456       -0.000316       NaN      1  \n",
      "...         ...        ...          ...             ...       ...    ...  \n",
      "1674  40.769543  -0.003310    -0.003412        0.000102  0.011445      1  \n",
      "1675  41.421419  -0.002802    -0.003290        0.000488  0.011618      1  \n",
      "1676  36.603779  -0.002829    -0.003198        0.000369  0.011546     -1  \n",
      "1677  37.722968  -0.003432    -0.003245       -0.000188  0.011044     -1  \n",
      "1678  48.982452  -0.003618    -0.003319       -0.000298  0.010386      1  \n",
      "\n",
      "[1679 rows x 13 columns]\n"
     ]
    }
   ],
   "source": [
    "# Calculate ATR using the function and add it as a new column 'ATR'\n",
    "forex_data['ATR'] = calculate_atr(forex_data)\n",
    "\n",
    "# Print the updated DataFrame with the ATR column\n",
    "print(forex_data)"
   ]
  },
  {
   "cell_type": "code",
   "execution_count": 55,
   "id": "54233ab0",
   "metadata": {},
   "outputs": [],
   "source": [
    "# #Calculate day feature\n",
    "\n",
    "# def calculate_day_feature(data):\n",
    "#     date_index = pd.to_datetime(data['Date'])\n",
    "#     day_of_week = date_index.dt.dayofweek\n",
    "#     day_feature = pd.get_dummies(day_of_week, prefix='Day')\n",
    "    \n",
    "#     return day_feature"
   ]
  },
  {
   "cell_type": "code",
   "execution_count": 57,
   "id": "ed4c309e",
   "metadata": {},
   "outputs": [],
   "source": [
    "# # Calculate day feature using the function and add it as new columns prefixed with 'Day_'\n",
    "# day_feature = calculate_day_feature(forex_data)\n",
    "# forex_data = pd.concat([forex_data, day_feature], axis=1)\n",
    "\n",
    "# # Print the updated DataFrame with the day feature columns\n",
    "# print(forex_data)"
   ]
  },
  {
   "cell_type": "code",
   "execution_count": 63,
   "id": "cc1ecb0a",
   "metadata": {},
   "outputs": [],
   "source": [
    "#Trend determination \n",
    "\n",
    "def add_trend_column(data):\n",
    "    # Calculate percentage change in the 'Close' price\n",
    "    data['Close_pct_change'] = data['Close'].pct_change()\n",
    "\n",
    "    # Define the condition for an uptrend\n",
    "    uptrend_condition = data['Close_pct_change'] > 0\n",
    "\n",
    "    # Create the 'Trend' column\n",
    "    data['Trend'] = -1  # Default value is '-1'\n",
    "    data.loc[uptrend_condition, 'Trend'] = 1\n",
    "\n",
    "    # Drop the 'Close_pct_change' column\n",
    "    data.drop(columns=['Close_pct_change'], inplace=True)\n",
    "\n",
    "    return data"
   ]
  },
  {
   "cell_type": "code",
   "execution_count": 81,
   "id": "b5fc5128",
   "metadata": {
    "scrolled": false
   },
   "outputs": [
    {
     "name": "stdout",
     "output_type": "stream",
     "text": [
      "                Open      High       Low     Close  Adj Close  Volume  Trend\n",
      "Date                                                                        \n",
      "2016-01-04  1.085505  1.094600  1.080600  1.085399   1.085399       0     -1\n",
      "2016-01-05  1.082603  1.084105  1.071201  1.082755   1.082755       0     -1\n",
      "2016-01-06  1.075199  1.077203  1.072200  1.075199   1.075199       0     -1\n",
      "2016-01-07  1.077795  1.087600  1.077400  1.077900   1.077900       0      1\n",
      "2016-01-08  1.092705  1.092896  1.080801  1.092598   1.092598       0      1\n",
      "...              ...       ...       ...       ...        ...     ...    ...\n",
      "2022-06-27  1.056613  1.061425  1.055086  1.056613   1.056613       0      1\n",
      "2022-06-28  1.058089  1.060502  1.050575  1.058089   1.058089       0      1\n",
      "2022-06-29  1.052355  1.053630  1.046803  1.052355   1.052355       0     -1\n",
      "2022-06-30  1.044659  1.047878  1.038389  1.044659   1.044659       0     -1\n",
      "2022-07-01  1.047768  1.047790  1.036989  1.047768   1.047768       0      1\n",
      "\n",
      "[1692 rows x 7 columns]\n",
      "Index(['Open', 'High', 'Low', 'Close', 'Adj Close', 'Volume', 'Trend'], dtype='object')\n"
     ]
    }
   ],
   "source": [
    "# Add the trend column using the function\n",
    "forex_data = add_trend_column(forex_data)\n",
    "\n",
    "# Print the updated DataFrame with the trend column\n",
    "print(forex_data)\n",
    "print(forex_data.columns)"
   ]
  },
  {
   "cell_type": "code",
   "execution_count": 66,
   "id": "4b0e12c2",
   "metadata": {},
   "outputs": [],
   "source": [
    "# Remove rows with NaN values\n",
    "forex_data = forex_data.dropna()\n",
    "\n",
    "# Reset the index\n",
    "forex_data = forex_data.reset_index(drop=True)"
   ]
  },
  {
   "cell_type": "code",
   "execution_count": 67,
   "id": "5ab95249",
   "metadata": {},
   "outputs": [
    {
     "name": "stdout",
     "output_type": "stream",
     "text": [
      "Accuracy: 1.0\n"
     ]
    }
   ],
   "source": [
    "#Training the model\n",
    "\n",
    "# Split the data into features (X) and target variable (y)\n",
    "X = forex_data.drop(columns=['Open', 'High', 'Low', 'Close', 'EMA', 'RSI', 'MACD Line', 'Signal Line', 'MACD Histogram'])# Features\n",
    "y = forex_data['Trend']  # Target variable\n",
    "\n",
    "# Split the data into training and testing sets\n",
    "X_train, X_test, y_train, y_test = train_test_split(X, y, test_size=0.2, random_state=42)\n",
    "\n",
    "\n",
    "# Scale the features\n",
    "scaler = StandardScaler()\n",
    "X_train_scaled = scaler.fit_transform(X_train)\n",
    "X_test_scaled = scaler.transform(X_test)\n",
    "\n",
    "# Create a KNN classifier and train the model\n",
    "knn = KNeighborsClassifier(n_neighbors=5)\n",
    "knn.fit(X_train_scaled, y_train)\n",
    "\n",
    "# Evaluate the model\n",
    "accuracy = knn.score(X_test_scaled, y_test)\n",
    "print(\"Accuracy:\", accuracy)"
   ]
  },
  {
   "cell_type": "code",
   "execution_count": 69,
   "id": "0657727f",
   "metadata": {},
   "outputs": [
    {
     "ename": "KeyError",
     "evalue": "'Final_Signal'",
     "output_type": "error",
     "traceback": [
      "\u001b[0;31m---------------------------------------------------------------------------\u001b[0m",
      "\u001b[0;31mKeyError\u001b[0m                                  Traceback (most recent call last)",
      "File \u001b[0;32m~/anaconda3/lib/python3.10/site-packages/pandas/core/indexes/base.py:3802\u001b[0m, in \u001b[0;36mIndex.get_loc\u001b[0;34m(self, key, method, tolerance)\u001b[0m\n\u001b[1;32m   3801\u001b[0m \u001b[38;5;28;01mtry\u001b[39;00m:\n\u001b[0;32m-> 3802\u001b[0m     \u001b[38;5;28;01mreturn\u001b[39;00m \u001b[38;5;28;43mself\u001b[39;49m\u001b[38;5;241;43m.\u001b[39;49m\u001b[43m_engine\u001b[49m\u001b[38;5;241;43m.\u001b[39;49m\u001b[43mget_loc\u001b[49m\u001b[43m(\u001b[49m\u001b[43mcasted_key\u001b[49m\u001b[43m)\u001b[49m\n\u001b[1;32m   3803\u001b[0m \u001b[38;5;28;01mexcept\u001b[39;00m \u001b[38;5;167;01mKeyError\u001b[39;00m \u001b[38;5;28;01mas\u001b[39;00m err:\n",
      "File \u001b[0;32m~/anaconda3/lib/python3.10/site-packages/pandas/_libs/index.pyx:138\u001b[0m, in \u001b[0;36mpandas._libs.index.IndexEngine.get_loc\u001b[0;34m()\u001b[0m\n",
      "File \u001b[0;32m~/anaconda3/lib/python3.10/site-packages/pandas/_libs/index.pyx:165\u001b[0m, in \u001b[0;36mpandas._libs.index.IndexEngine.get_loc\u001b[0;34m()\u001b[0m\n",
      "File \u001b[0;32mpandas/_libs/hashtable_class_helper.pxi:5745\u001b[0m, in \u001b[0;36mpandas._libs.hashtable.PyObjectHashTable.get_item\u001b[0;34m()\u001b[0m\n",
      "File \u001b[0;32mpandas/_libs/hashtable_class_helper.pxi:5753\u001b[0m, in \u001b[0;36mpandas._libs.hashtable.PyObjectHashTable.get_item\u001b[0;34m()\u001b[0m\n",
      "\u001b[0;31mKeyError\u001b[0m: 'Final_Signal'",
      "\nThe above exception was the direct cause of the following exception:\n",
      "\u001b[0;31mKeyError\u001b[0m                                  Traceback (most recent call last)",
      "Cell \u001b[0;32mIn[69], line 7\u001b[0m\n\u001b[1;32m      5\u001b[0m \u001b[38;5;66;03m# Split the data into training and testing sets\u001b[39;00m\n\u001b[1;32m      6\u001b[0m X \u001b[38;5;241m=\u001b[39m forex_data[features]\n\u001b[0;32m----> 7\u001b[0m y \u001b[38;5;241m=\u001b[39m \u001b[43mforex_data\u001b[49m\u001b[43m[\u001b[49m\u001b[43mtarget\u001b[49m\u001b[43m]\u001b[49m\n\u001b[1;32m      8\u001b[0m X_train, X_test, y_train, y_test \u001b[38;5;241m=\u001b[39m train_test_split(X, y, test_size\u001b[38;5;241m=\u001b[39m\u001b[38;5;241m0.2\u001b[39m, random_state\u001b[38;5;241m=\u001b[39m\u001b[38;5;241m42\u001b[39m)\n\u001b[1;32m     10\u001b[0m \u001b[38;5;66;03m# Scale the features\u001b[39;00m\n",
      "File \u001b[0;32m~/anaconda3/lib/python3.10/site-packages/pandas/core/frame.py:3807\u001b[0m, in \u001b[0;36mDataFrame.__getitem__\u001b[0;34m(self, key)\u001b[0m\n\u001b[1;32m   3805\u001b[0m \u001b[38;5;28;01mif\u001b[39;00m \u001b[38;5;28mself\u001b[39m\u001b[38;5;241m.\u001b[39mcolumns\u001b[38;5;241m.\u001b[39mnlevels \u001b[38;5;241m>\u001b[39m \u001b[38;5;241m1\u001b[39m:\n\u001b[1;32m   3806\u001b[0m     \u001b[38;5;28;01mreturn\u001b[39;00m \u001b[38;5;28mself\u001b[39m\u001b[38;5;241m.\u001b[39m_getitem_multilevel(key)\n\u001b[0;32m-> 3807\u001b[0m indexer \u001b[38;5;241m=\u001b[39m \u001b[38;5;28;43mself\u001b[39;49m\u001b[38;5;241;43m.\u001b[39;49m\u001b[43mcolumns\u001b[49m\u001b[38;5;241;43m.\u001b[39;49m\u001b[43mget_loc\u001b[49m\u001b[43m(\u001b[49m\u001b[43mkey\u001b[49m\u001b[43m)\u001b[49m\n\u001b[1;32m   3808\u001b[0m \u001b[38;5;28;01mif\u001b[39;00m is_integer(indexer):\n\u001b[1;32m   3809\u001b[0m     indexer \u001b[38;5;241m=\u001b[39m [indexer]\n",
      "File \u001b[0;32m~/anaconda3/lib/python3.10/site-packages/pandas/core/indexes/base.py:3804\u001b[0m, in \u001b[0;36mIndex.get_loc\u001b[0;34m(self, key, method, tolerance)\u001b[0m\n\u001b[1;32m   3802\u001b[0m     \u001b[38;5;28;01mreturn\u001b[39;00m \u001b[38;5;28mself\u001b[39m\u001b[38;5;241m.\u001b[39m_engine\u001b[38;5;241m.\u001b[39mget_loc(casted_key)\n\u001b[1;32m   3803\u001b[0m \u001b[38;5;28;01mexcept\u001b[39;00m \u001b[38;5;167;01mKeyError\u001b[39;00m \u001b[38;5;28;01mas\u001b[39;00m err:\n\u001b[0;32m-> 3804\u001b[0m     \u001b[38;5;28;01mraise\u001b[39;00m \u001b[38;5;167;01mKeyError\u001b[39;00m(key) \u001b[38;5;28;01mfrom\u001b[39;00m \u001b[38;5;21;01merr\u001b[39;00m\n\u001b[1;32m   3805\u001b[0m \u001b[38;5;28;01mexcept\u001b[39;00m \u001b[38;5;167;01mTypeError\u001b[39;00m:\n\u001b[1;32m   3806\u001b[0m     \u001b[38;5;66;03m# If we have a listlike key, _check_indexing_error will raise\u001b[39;00m\n\u001b[1;32m   3807\u001b[0m     \u001b[38;5;66;03m#  InvalidIndexError. Otherwise we fall through and re-raise\u001b[39;00m\n\u001b[1;32m   3808\u001b[0m     \u001b[38;5;66;03m#  the TypeError.\u001b[39;00m\n\u001b[1;32m   3809\u001b[0m     \u001b[38;5;28mself\u001b[39m\u001b[38;5;241m.\u001b[39m_check_indexing_error(key)\n",
      "\u001b[0;31mKeyError\u001b[0m: 'Final_Signal'"
     ]
    }
   ],
   "source": [
    "# Define the features and target variables\n",
    "features = ['EMA', 'RSI', 'ATR']\n",
    "target = 'Final_Signal'\n",
    "\n",
    "# Split the data into training and testing sets\n",
    "X = forex_data[features]\n",
    "y = forex_data[target]\n",
    "X_train, X_test, y_train, y_test = train_test_split(X, y, test_size=0.2, random_state=42)\n",
    "\n",
    "# Scale the features\n",
    "scaler = StandardScaler()\n",
    "X_train_scaled = scaler.fit_transform(X_train)\n",
    "X_test_scaled = scaler.transform(X_test)\n",
    "\n",
    "# Create a KNN classifier and train the model\n",
    "k = 5  # Number of neighbors\n",
    "knn = KNeighborsClassifier(n_neighbors=k)\n",
    "knn.fit(X_train_scaled, y_train)\n",
    "\n",
    "# Make predictions on the test set\n",
    "y_pred = knn.predict(X_test_scaled)\n",
    "\n",
    "# Calculate the accuracy of the predictions\n",
    "accuracy = accuracy_score(y_test, y_pred)\n",
    "print(\"Accuracy:\", accuracy)"
   ]
  }
 ],
 "metadata": {
  "kernelspec": {
   "display_name": "Python 3 (ipykernel)",
   "language": "python",
   "name": "python3"
  },
  "language_info": {
   "codemirror_mode": {
    "name": "ipython",
    "version": 3
   },
   "file_extension": ".py",
   "mimetype": "text/x-python",
   "name": "python",
   "nbconvert_exporter": "python",
   "pygments_lexer": "ipython3",
   "version": "3.10.9"
  }
 },
 "nbformat": 4,
 "nbformat_minor": 5
}
