{
 "cells": [
  {
   "cell_type": "markdown",
   "id": "90a369c1",
   "metadata": {},
   "source": [
    "!pip install pandas\n",
    "!pip install numpy\n",
    "!pip install scikit-learn\n",
    "!pip install yfinance"
   ]
  },
  {
   "cell_type": "code",
   "execution_count": 30,
   "id": "eaf7fcbd",
   "metadata": {},
   "outputs": [],
   "source": [
    "import pandas as pd\n",
    "import numpy as np\n",
    "import yfinance as yf\n",
    "import random\n",
    "\n",
    "from sklearn.model_selection import train_test_split\n",
    "from sklearn.preprocessing import StandardScaler\n",
    "from sklearn.neighbors import KNeighborsClassifier\n",
    "from sklearn.metrics import confusion_matrix\n",
    "from sklearn.metrics import f1_score\n",
    "from sklearn.metrics import accuracy_score"
   ]
  },
  {
   "cell_type": "code",
   "execution_count": 6,
   "id": "f0aed22d",
   "metadata": {},
   "outputs": [
    {
     "name": "stdout",
     "output_type": "stream",
     "text": [
      "[*********************100%***********************]  1 of 1 completed\n"
     ]
    }
   ],
   "source": [
    "stock ='EURUSD=X'\n",
    "forex_data = yf.download(stock, start='2016-01-02', end='2022-07-03')"
   ]
  },
  {
   "cell_type": "code",
   "execution_count": 7,
   "id": "2b110d1b",
   "metadata": {
    "scrolled": false
   },
   "outputs": [
    {
     "data": {
      "text/html": [
       "<div>\n",
       "<style scoped>\n",
       "    .dataframe tbody tr th:only-of-type {\n",
       "        vertical-align: middle;\n",
       "    }\n",
       "\n",
       "    .dataframe tbody tr th {\n",
       "        vertical-align: top;\n",
       "    }\n",
       "\n",
       "    .dataframe thead th {\n",
       "        text-align: right;\n",
       "    }\n",
       "</style>\n",
       "<table border=\"1\" class=\"dataframe\">\n",
       "  <thead>\n",
       "    <tr style=\"text-align: right;\">\n",
       "      <th></th>\n",
       "      <th>Open</th>\n",
       "      <th>High</th>\n",
       "      <th>Low</th>\n",
       "      <th>Close</th>\n",
       "      <th>Adj Close</th>\n",
       "      <th>Volume</th>\n",
       "    </tr>\n",
       "    <tr>\n",
       "      <th>Date</th>\n",
       "      <th></th>\n",
       "      <th></th>\n",
       "      <th></th>\n",
       "      <th></th>\n",
       "      <th></th>\n",
       "      <th></th>\n",
       "    </tr>\n",
       "  </thead>\n",
       "  <tbody>\n",
       "    <tr>\n",
       "      <th>2016-01-04</th>\n",
       "      <td>1.085505</td>\n",
       "      <td>1.094600</td>\n",
       "      <td>1.080600</td>\n",
       "      <td>1.085399</td>\n",
       "      <td>1.085399</td>\n",
       "      <td>0</td>\n",
       "    </tr>\n",
       "    <tr>\n",
       "      <th>2016-01-05</th>\n",
       "      <td>1.082603</td>\n",
       "      <td>1.084105</td>\n",
       "      <td>1.071201</td>\n",
       "      <td>1.082755</td>\n",
       "      <td>1.082755</td>\n",
       "      <td>0</td>\n",
       "    </tr>\n",
       "    <tr>\n",
       "      <th>2016-01-06</th>\n",
       "      <td>1.075199</td>\n",
       "      <td>1.077203</td>\n",
       "      <td>1.072200</td>\n",
       "      <td>1.075199</td>\n",
       "      <td>1.075199</td>\n",
       "      <td>0</td>\n",
       "    </tr>\n",
       "    <tr>\n",
       "      <th>2016-01-07</th>\n",
       "      <td>1.077795</td>\n",
       "      <td>1.087600</td>\n",
       "      <td>1.077400</td>\n",
       "      <td>1.077900</td>\n",
       "      <td>1.077900</td>\n",
       "      <td>0</td>\n",
       "    </tr>\n",
       "    <tr>\n",
       "      <th>2016-01-08</th>\n",
       "      <td>1.092705</td>\n",
       "      <td>1.092896</td>\n",
       "      <td>1.080801</td>\n",
       "      <td>1.092598</td>\n",
       "      <td>1.092598</td>\n",
       "      <td>0</td>\n",
       "    </tr>\n",
       "    <tr>\n",
       "      <th>...</th>\n",
       "      <td>...</td>\n",
       "      <td>...</td>\n",
       "      <td>...</td>\n",
       "      <td>...</td>\n",
       "      <td>...</td>\n",
       "      <td>...</td>\n",
       "    </tr>\n",
       "    <tr>\n",
       "      <th>2022-06-27</th>\n",
       "      <td>1.056613</td>\n",
       "      <td>1.061425</td>\n",
       "      <td>1.055086</td>\n",
       "      <td>1.056613</td>\n",
       "      <td>1.056613</td>\n",
       "      <td>0</td>\n",
       "    </tr>\n",
       "    <tr>\n",
       "      <th>2022-06-28</th>\n",
       "      <td>1.058089</td>\n",
       "      <td>1.060502</td>\n",
       "      <td>1.050575</td>\n",
       "      <td>1.058089</td>\n",
       "      <td>1.058089</td>\n",
       "      <td>0</td>\n",
       "    </tr>\n",
       "    <tr>\n",
       "      <th>2022-06-29</th>\n",
       "      <td>1.052355</td>\n",
       "      <td>1.053630</td>\n",
       "      <td>1.046803</td>\n",
       "      <td>1.052355</td>\n",
       "      <td>1.052355</td>\n",
       "      <td>0</td>\n",
       "    </tr>\n",
       "    <tr>\n",
       "      <th>2022-06-30</th>\n",
       "      <td>1.044659</td>\n",
       "      <td>1.047878</td>\n",
       "      <td>1.038389</td>\n",
       "      <td>1.044659</td>\n",
       "      <td>1.044659</td>\n",
       "      <td>0</td>\n",
       "    </tr>\n",
       "    <tr>\n",
       "      <th>2022-07-01</th>\n",
       "      <td>1.047768</td>\n",
       "      <td>1.047790</td>\n",
       "      <td>1.036989</td>\n",
       "      <td>1.047768</td>\n",
       "      <td>1.047768</td>\n",
       "      <td>0</td>\n",
       "    </tr>\n",
       "  </tbody>\n",
       "</table>\n",
       "<p>1692 rows × 6 columns</p>\n",
       "</div>"
      ],
      "text/plain": [
       "                Open      High       Low     Close  Adj Close  Volume\n",
       "Date                                                                 \n",
       "2016-01-04  1.085505  1.094600  1.080600  1.085399   1.085399       0\n",
       "2016-01-05  1.082603  1.084105  1.071201  1.082755   1.082755       0\n",
       "2016-01-06  1.075199  1.077203  1.072200  1.075199   1.075199       0\n",
       "2016-01-07  1.077795  1.087600  1.077400  1.077900   1.077900       0\n",
       "2016-01-08  1.092705  1.092896  1.080801  1.092598   1.092598       0\n",
       "...              ...       ...       ...       ...        ...     ...\n",
       "2022-06-27  1.056613  1.061425  1.055086  1.056613   1.056613       0\n",
       "2022-06-28  1.058089  1.060502  1.050575  1.058089   1.058089       0\n",
       "2022-06-29  1.052355  1.053630  1.046803  1.052355   1.052355       0\n",
       "2022-06-30  1.044659  1.047878  1.038389  1.044659   1.044659       0\n",
       "2022-07-01  1.047768  1.047790  1.036989  1.047768   1.047768       0\n",
       "\n",
       "[1692 rows x 6 columns]"
      ]
     },
     "execution_count": 7,
     "metadata": {},
     "output_type": "execute_result"
    }
   ],
   "source": [
    "forex_data"
   ]
  },
  {
   "cell_type": "code",
   "execution_count": 14,
   "id": "05008ae0",
   "metadata": {
    "scrolled": true
   },
   "outputs": [],
   "source": [
    "fx_data = ['Open', 'High', 'Low', 'Close']"
   ]
  },
  {
   "cell_type": "code",
   "execution_count": 16,
   "id": "ab93571d",
   "metadata": {},
   "outputs": [],
   "source": [
    "for col in fx_data:\n",
    "    forex_data[col] = forex_data[col].replace(0, np.NaN)\n",
    "    mean = int(forex_data[col].mean(skipna=True))\n",
    "    forex_data[col] = forex_data[col].replace(np.NaN, mean)"
   ]
  }
 ],
 "metadata": {
  "kernelspec": {
   "display_name": "Python 3 (ipykernel)",
   "language": "python",
   "name": "python3"
  },
  "language_info": {
   "codemirror_mode": {
    "name": "ipython",
    "version": 3
   },
   "file_extension": ".py",
   "mimetype": "text/x-python",
   "name": "python",
   "nbconvert_exporter": "python",
   "pygments_lexer": "ipython3",
   "version": "3.10.9"
  }
 },
 "nbformat": 4,
 "nbformat_minor": 5
}
